{
 "cells": [
  {
   "cell_type": "code",
   "execution_count": 1,
   "metadata": {},
   "outputs": [],
   "source": [
    "# 加载必要的包\n",
    "from os import makedirs, path\n",
    "import os\n",
    "import numpy as np\n",
    "import pandas as pd\n",
    "from IPython.display import display\n",
    "from nibabel import save\n",
    "from nilearn import image, plotting, reporting\n",
    "from nimare import correct, io, meta, utils #主要用nimare完成元分析\n",
    "from scipy.stats import norm\n",
    "\n",
    "# We are now ready to perform the actual ALE analyses with NiMARE. \n",
    "# We write a custom function which takes a single Sleuth text file as its input and (a) calculates the ALE map, \n",
    "# (b) corrects for multiple comparisons using a Monte Carlo-based FWE correction, \n",
    "# and (c) stores the cluster level-thresholded maps into the output directory. \n",
    "# We then apply this function to all the Sleuth files we have created in the previous step. \n"
   ]
  },
  {
   "cell_type": "code",
   "execution_count": 18,
   "metadata": {},
   "outputs": [
    {
     "name": "stdout",
     "output_type": "stream",
     "text": [
      "None 文件可能已损坏: No such file or no access: '/Users/ss/Downloads/first_level_stats_output_10_subj/first_level_model_corrected_gii/sub-011/stats_results/run-02/sub-011_task-MGT_run-02_strongly_accept\\ -\\ strongly_reject_zmap.L.func.gii '\n"
     ]
    },
    {
     "name": "stderr",
     "output_type": "stream",
     "text": [
      "<>:5: SyntaxWarning: invalid escape sequence '\\ '\n",
      "<>:5: SyntaxWarning: invalid escape sequence '\\ '\n",
      "/var/folders/yk/78rqxlxn4pz_rsb5_31xvh340000gn/T/ipykernel_4171/3920738479.py:5: SyntaxWarning: invalid escape sequence '\\ '\n",
      "  img = nib.load('/Users/ss/Downloads/first_level_stats_output_10_subj/first_level_model_corrected_gii/sub-011/stats_results/run-02/sub-011_task-MGT_run-02_strongly_accept\\ -\\ strongly_reject_zmap.L.func.gii ')\n"
     ]
    }
   ],
   "source": [
    "import nibabel as nib\n",
    "\n",
    "img = None\n",
    "try:\n",
    "    img = nib.load('/Users/ss/Downloads/first_level_stats_output_10_subj/first_level_model_corrected_gii/sub-011/stats_results/run-02/sub-011_task-MGT_run-02_strongly_accept\\ -\\ strongly_reject_zmap.L.func.gii ')\n",
    "    print(f\"{img} 文件可以正常读取\")\n",
    "except Exception as e:\n",
    "    print(f\"{img} 文件可能已损坏: {e}\")\n"
   ]
  },
  {
   "cell_type": "code",
   "execution_count": 12,
   "metadata": {},
   "outputs": [],
   "source": [
    "# 确保输出目录存在\n",
    "output_dir = \"/Users/ss/Documents/Psych_ALE_meta/results/ale/\"\n",
    "os.makedirs(output_dir, exist_ok=True)"
   ]
  },
  {
   "cell_type": "code",
   "execution_count": 13,
   "metadata": {},
   "outputs": [],
   "source": [
    "# 定义运行 ALE 分析的函数\n",
    "def run_ale(text_file, voxel_thresh, cluster_thresh, random_seed, n_iters, output_dir):\n",
    "    # 设置随机种子\n",
    "    if random_seed:\n",
    "        np.random.seed(random_seed)\n",
    "    \n",
    "    # 加载 Sleuth 文件并进行 ALE 分析\n",
    "    dset = io.convert_sleuth_to_dataset(text_file=text_file, target=\"ale_2mm\")\n",
    "    ale = meta.cbma.ALE()\n",
    "    res = ale.fit(dset)\n",
    "\n",
    "    # 使用蒙特卡洛方法进行 FWE 校正\n",
    "    corr = correct.FWECorrector(\n",
    "        method=\"montecarlo\", voxel_thresh=voxel_thresh, n_iters=n_iters\n",
    "    )\n",
    "    cres = corr.transform(result=res)\n",
    "\n",
    "    # 保存未阈值化的 z 和 ALE 映射\n",
    "    prefix = os.path.basename(text_file).replace(\".txt\", \"\")\n",
    "    res.save_maps(output_dir=output_dir, prefix=prefix)\n",
    "    cres.save_maps(output_dir=output_dir, prefix=prefix)\n",
    "\n",
    "    # 生成集群级阈值化的 z 和 ALE 映射\n",
    "    img_clust = cres.get_map(\"z_level-cluster_corr-FWE_method-montecarlo\")\n",
    "    img_z = cres.get_map(\"z\")\n",
    "    img_ale = cres.get_map(\"stat\")\n",
    "    cluster_thresh_z = norm.ppf(1 - cluster_thresh / 2)\n",
    "    img_clust_thresh = image.threshold_img(img=img_clust, threshold=cluster_thresh_z)\n",
    "    img_mask = image.math_img(\"np.where(img > 0, 1, 0)\", img=img_clust_thresh)\n",
    "    img_z_thresh = image.math_img(\"img1 * img2\", img1=img_mask, img2=img_z)\n",
    "    img_ale_thresh = image.math_img(\"img1 * img2\", img1=img_mask, img2=img_ale)\n",
    "\n",
    "    # 保存阈值化的映射\n",
    "    save(img=img_z_thresh, filename=os.path.join(output_dir, prefix + \"_z_thresh.nii.gz\"))\n",
    "    save(img=img_ale_thresh, filename=os.path.join(output_dir, prefix + \"_stat_thresh.nii.gz\"))\n",
    "\n",
    "    print(f\"Analysis complete for '{text_file}'.\")"
   ]
  },
  {
   "cell_type": "code",
   "execution_count": 16,
   "metadata": {},
   "outputs": [
    {
     "name": "stderr",
     "output_type": "stream",
     "text": [
      "INFO:nimare.correct:Using correction method implemented in Estimator: nimare.meta.cbma.ale.ALE.correct_fwe_montecarlo.\n"
     ]
    },
    {
     "data": {
      "application/vnd.jupyter.widget-view+json": {
       "model_id": "cea26b8bcb814fd689abcb4d5d169cf2",
       "version_major": 2,
       "version_minor": 0
      },
      "text/plain": [
       "  0%|          | 0/100 [00:00<?, ?it/s]"
      ]
     },
     "metadata": {},
     "output_type": "display_data"
    },
    {
     "name": "stderr",
     "output_type": "stream",
     "text": [
      "INFO:nimare.meta.cbma.base:Using null distribution for voxel-level FWE correction.\n"
     ]
    },
    {
     "ename": "ValueError",
     "evalue": "No map with name 'z_level-cluster_corr-FWE_method-montecarlo' found.",
     "output_type": "error",
     "traceback": [
      "\u001b[0;31m---------------------------------------------------------------------------\u001b[0m",
      "\u001b[0;31mValueError\u001b[0m                                Traceback (most recent call last)",
      "Cell \u001b[0;32mIn[16], line 2\u001b[0m\n\u001b[1;32m      1\u001b[0m \u001b[38;5;66;03m# Ensure cres is defined by running the ALE analysis first\u001b[39;00m\n\u001b[0;32m----> 2\u001b[0m run_ale(\n\u001b[1;32m      3\u001b[0m     text_file\u001b[38;5;241m=\u001b[39m\u001b[38;5;124m\"\u001b[39m\u001b[38;5;124m/Users/ss/Documents/Psych_ALE_meta/data/Self_all.txt\u001b[39m\u001b[38;5;124m\"\u001b[39m,\n\u001b[1;32m      4\u001b[0m     voxel_thresh\u001b[38;5;241m=\u001b[39m\u001b[38;5;241m0.001\u001b[39m,\n\u001b[1;32m      5\u001b[0m     cluster_thresh\u001b[38;5;241m=\u001b[39m\u001b[38;5;241m0.01\u001b[39m,\n\u001b[1;32m      6\u001b[0m     random_seed\u001b[38;5;241m=\u001b[39m\u001b[38;5;241m1234\u001b[39m,\n\u001b[1;32m      7\u001b[0m     n_iters\u001b[38;5;241m=\u001b[39m\u001b[38;5;241m100\u001b[39m,\n\u001b[1;32m      8\u001b[0m     output_dir\u001b[38;5;241m=\u001b[39moutput_dir\n\u001b[1;32m      9\u001b[0m )\n\u001b[1;32m     11\u001b[0m \u001b[38;5;28mprint\u001b[39m(cres\u001b[38;5;241m.\u001b[39mmaps\u001b[38;5;241m.\u001b[39mkeys())\n",
      "Cell \u001b[0;32mIn[13], line 24\u001b[0m, in \u001b[0;36mrun_ale\u001b[0;34m(text_file, voxel_thresh, cluster_thresh, random_seed, n_iters, output_dir)\u001b[0m\n\u001b[1;32m     21\u001b[0m cres\u001b[38;5;241m.\u001b[39msave_maps(output_dir\u001b[38;5;241m=\u001b[39moutput_dir, prefix\u001b[38;5;241m=\u001b[39mprefix)\n\u001b[1;32m     23\u001b[0m \u001b[38;5;66;03m# 生成集群级阈值化的 z 和 ALE 映射\u001b[39;00m\n\u001b[0;32m---> 24\u001b[0m img_clust \u001b[38;5;241m=\u001b[39m cres\u001b[38;5;241m.\u001b[39mget_map(\u001b[38;5;124m\"\u001b[39m\u001b[38;5;124mz_level-cluster_corr-FWE_method-montecarlo\u001b[39m\u001b[38;5;124m\"\u001b[39m)\n\u001b[1;32m     25\u001b[0m img_z \u001b[38;5;241m=\u001b[39m cres\u001b[38;5;241m.\u001b[39mget_map(\u001b[38;5;124m\"\u001b[39m\u001b[38;5;124mz\u001b[39m\u001b[38;5;124m\"\u001b[39m)\n\u001b[1;32m     26\u001b[0m img_ale \u001b[38;5;241m=\u001b[39m cres\u001b[38;5;241m.\u001b[39mget_map(\u001b[38;5;124m\"\u001b[39m\u001b[38;5;124mstat\u001b[39m\u001b[38;5;124m\"\u001b[39m)\n",
      "File \u001b[0;32m/opt/anaconda3/lib/python3.12/site-packages/nimare/results.py:132\u001b[0m, in \u001b[0;36mMetaResult.get_map\u001b[0;34m(self, name, return_type)\u001b[0m\n\u001b[1;32m    130\u001b[0m m \u001b[38;5;241m=\u001b[39m \u001b[38;5;28mself\u001b[39m\u001b[38;5;241m.\u001b[39mmaps\u001b[38;5;241m.\u001b[39mget(name)\n\u001b[1;32m    131\u001b[0m \u001b[38;5;28;01mif\u001b[39;00m m \u001b[38;5;129;01mis\u001b[39;00m \u001b[38;5;28;01mNone\u001b[39;00m:\n\u001b[0;32m--> 132\u001b[0m     \u001b[38;5;28;01mraise\u001b[39;00m \u001b[38;5;167;01mValueError\u001b[39;00m(\u001b[38;5;124mf\u001b[39m\u001b[38;5;124m\"\u001b[39m\u001b[38;5;124mNo map with name \u001b[39m\u001b[38;5;124m'\u001b[39m\u001b[38;5;132;01m{\u001b[39;00mname\u001b[38;5;132;01m}\u001b[39;00m\u001b[38;5;124m'\u001b[39m\u001b[38;5;124m found.\u001b[39m\u001b[38;5;124m\"\u001b[39m)\n\u001b[1;32m    133\u001b[0m \u001b[38;5;28;01mif\u001b[39;00m return_type \u001b[38;5;241m==\u001b[39m \u001b[38;5;124m\"\u001b[39m\u001b[38;5;124mimage\u001b[39m\u001b[38;5;124m\"\u001b[39m:\n\u001b[1;32m    134\u001b[0m     \u001b[38;5;66;03m# pending resolution of https://github.com/nilearn/nilearn/issues/2724\u001b[39;00m\n\u001b[1;32m    135\u001b[0m     \u001b[38;5;28;01mtry\u001b[39;00m:\n",
      "\u001b[0;31mValueError\u001b[0m: No map with name 'z_level-cluster_corr-FWE_method-montecarlo' found."
     ]
    }
   ],
   "source": [
    "# Ensure cres is defined by running the ALE analysis first\n",
    "run_ale(\n",
    "    text_file=\"/Users/ss/Documents/Psych_ALE_meta/data/Self_all.txt\",\n",
    "    voxel_thresh=0.001,\n",
    "    cluster_thresh=0.01,\n",
    "    random_seed=1234,\n",
    "    n_iters=100,\n",
    "    output_dir=output_dir\n",
    ")\n",
    "\n",
    "print(cres.maps.keys())\n"
   ]
  },
  {
   "cell_type": "code",
   "execution_count": 14,
   "metadata": {},
   "outputs": [
    {
     "name": "stderr",
     "output_type": "stream",
     "text": [
      "INFO:nimare.correct:Using correction method implemented in Estimator: nimare.meta.cbma.ale.ALE.correct_fwe_montecarlo.\n"
     ]
    },
    {
     "data": {
      "application/vnd.jupyter.widget-view+json": {
       "model_id": "b63c98071ba140338d639adb95dda98a",
       "version_major": 2,
       "version_minor": 0
      },
      "text/plain": [
       "  0%|          | 0/100 [00:00<?, ?it/s]"
      ]
     },
     "metadata": {},
     "output_type": "display_data"
    },
    {
     "name": "stderr",
     "output_type": "stream",
     "text": [
      "INFO:nimare.meta.cbma.base:Using null distribution for voxel-level FWE correction.\n"
     ]
    },
    {
     "ename": "ValueError",
     "evalue": "No map with name 'z_level-cluster_corr-FWE_method-montecarlo' found.",
     "output_type": "error",
     "traceback": [
      "\u001b[0;31m---------------------------------------------------------------------------\u001b[0m",
      "\u001b[0;31mValueError\u001b[0m                                Traceback (most recent call last)",
      "Cell \u001b[0;32mIn[14], line 2\u001b[0m\n\u001b[1;32m      1\u001b[0m \u001b[38;5;66;03m# 执行 ALE 分析\u001b[39;00m\n\u001b[0;32m----> 2\u001b[0m run_ale(\n\u001b[1;32m      3\u001b[0m     text_file\u001b[38;5;241m=\u001b[39m\u001b[38;5;124m\"\u001b[39m\u001b[38;5;124m/Users/ss/Documents/Psych_ALE_meta/data/Self_all.txt\u001b[39m\u001b[38;5;124m\"\u001b[39m,\n\u001b[1;32m      4\u001b[0m     voxel_thresh\u001b[38;5;241m=\u001b[39m\u001b[38;5;241m0.001\u001b[39m,\n\u001b[1;32m      5\u001b[0m     cluster_thresh\u001b[38;5;241m=\u001b[39m\u001b[38;5;241m0.01\u001b[39m,\n\u001b[1;32m      6\u001b[0m     random_seed\u001b[38;5;241m=\u001b[39m\u001b[38;5;241m1234\u001b[39m,\n\u001b[1;32m      7\u001b[0m     n_iters\u001b[38;5;241m=\u001b[39m\u001b[38;5;241m100\u001b[39m,\n\u001b[1;32m      8\u001b[0m     output_dir\u001b[38;5;241m=\u001b[39moutput_dir\n\u001b[1;32m      9\u001b[0m )\n",
      "Cell \u001b[0;32mIn[13], line 24\u001b[0m, in \u001b[0;36mrun_ale\u001b[0;34m(text_file, voxel_thresh, cluster_thresh, random_seed, n_iters, output_dir)\u001b[0m\n\u001b[1;32m     21\u001b[0m cres\u001b[38;5;241m.\u001b[39msave_maps(output_dir\u001b[38;5;241m=\u001b[39moutput_dir, prefix\u001b[38;5;241m=\u001b[39mprefix)\n\u001b[1;32m     23\u001b[0m \u001b[38;5;66;03m# 生成集群级阈值化的 z 和 ALE 映射\u001b[39;00m\n\u001b[0;32m---> 24\u001b[0m img_clust \u001b[38;5;241m=\u001b[39m cres\u001b[38;5;241m.\u001b[39mget_map(\u001b[38;5;124m\"\u001b[39m\u001b[38;5;124mz_level-cluster_corr-FWE_method-montecarlo\u001b[39m\u001b[38;5;124m\"\u001b[39m)\n\u001b[1;32m     25\u001b[0m img_z \u001b[38;5;241m=\u001b[39m cres\u001b[38;5;241m.\u001b[39mget_map(\u001b[38;5;124m\"\u001b[39m\u001b[38;5;124mz\u001b[39m\u001b[38;5;124m\"\u001b[39m)\n\u001b[1;32m     26\u001b[0m img_ale \u001b[38;5;241m=\u001b[39m cres\u001b[38;5;241m.\u001b[39mget_map(\u001b[38;5;124m\"\u001b[39m\u001b[38;5;124mstat\u001b[39m\u001b[38;5;124m\"\u001b[39m)\n",
      "File \u001b[0;32m/opt/anaconda3/lib/python3.12/site-packages/nimare/results.py:132\u001b[0m, in \u001b[0;36mMetaResult.get_map\u001b[0;34m(self, name, return_type)\u001b[0m\n\u001b[1;32m    130\u001b[0m m \u001b[38;5;241m=\u001b[39m \u001b[38;5;28mself\u001b[39m\u001b[38;5;241m.\u001b[39mmaps\u001b[38;5;241m.\u001b[39mget(name)\n\u001b[1;32m    131\u001b[0m \u001b[38;5;28;01mif\u001b[39;00m m \u001b[38;5;129;01mis\u001b[39;00m \u001b[38;5;28;01mNone\u001b[39;00m:\n\u001b[0;32m--> 132\u001b[0m     \u001b[38;5;28;01mraise\u001b[39;00m \u001b[38;5;167;01mValueError\u001b[39;00m(\u001b[38;5;124mf\u001b[39m\u001b[38;5;124m\"\u001b[39m\u001b[38;5;124mNo map with name \u001b[39m\u001b[38;5;124m'\u001b[39m\u001b[38;5;132;01m{\u001b[39;00mname\u001b[38;5;132;01m}\u001b[39;00m\u001b[38;5;124m'\u001b[39m\u001b[38;5;124m found.\u001b[39m\u001b[38;5;124m\"\u001b[39m)\n\u001b[1;32m    133\u001b[0m \u001b[38;5;28;01mif\u001b[39;00m return_type \u001b[38;5;241m==\u001b[39m \u001b[38;5;124m\"\u001b[39m\u001b[38;5;124mimage\u001b[39m\u001b[38;5;124m\"\u001b[39m:\n\u001b[1;32m    134\u001b[0m     \u001b[38;5;66;03m# pending resolution of https://github.com/nilearn/nilearn/issues/2724\u001b[39;00m\n\u001b[1;32m    135\u001b[0m     \u001b[38;5;28;01mtry\u001b[39;00m:\n",
      "\u001b[0;31mValueError\u001b[0m: No map with name 'z_level-cluster_corr-FWE_method-montecarlo' found."
     ]
    }
   ],
   "source": [
    "# 执行 ALE 分析\n",
    "run_ale(\n",
    "    text_file=\"/Users/ss/Documents/Psych_ALE_meta/data/Self_all.txt\",\n",
    "    voxel_thresh=0.001,\n",
    "    cluster_thresh=0.01,\n",
    "    random_seed=1234,\n",
    "    n_iters=100,\n",
    "    output_dir=output_dir\n",
    ")"
   ]
  },
  {
   "cell_type": "code",
   "execution_count": 11,
   "metadata": {},
   "outputs": [],
   "source": [
    "def run_ale(text_file, voxel_thresh, cluster_thresh, random_seed, n_iters, output_dir):\n",
    "\n",
    "    # Let's show the user what we are doing\n",
    "    # 显示当前操作的信息\n",
    "    print(\"ALE ANALYSIS FOR '\" + text_file + \"' WITH \" + str(n_iters) + \" PERMUTATIONS\")\n",
    "\n",
    "    # Set a random seed to make the results reproducible\n",
    "    # 设置随机种子以使结果可重现\n",
    "    if random_seed:\n",
    "        np.random.seed(random_seed)\n",
    "\n",
    "    # Perform the ALE\n",
    "    # 执行ALE分析\n",
    "    # 使用io.convert_sleuth_to_dataset函数将Sleuth格式的数据转换为ALE分析所需的数据集。\n",
    "    dset = io.convert_sleuth_to_dataset(text_file=text_file, target=\"ale_2mm\") # 这里的target是指定的空间模板，可以是MNI152_2mm\n",
    "    # 创建ALE分析对象`ale`\n",
    "    ale = meta.cbma.ALE()\n",
    "    # 使用`ale.fit`方法对数据集进行拟合\n",
    "    res = ale.fit(dset)\n",
    "\n",
    "    # FWE correction for multiple comparisons\n",
    "    # 多重比较的FWE校正\n",
    "    corr = correct.FWECorrector(\n",
    "        method=\"montecarlo\", voxel_thresh=voxel_thresh, n_iters=n_iters\n",
    "    )\n",
    "    cres = corr.transform(result=res)\n",
    "\n",
    "    # Save unthresholded maps to the ouput directory\n",
    "    # 将未阈值化的地图保存到输出目录\n",
    "    prefix = path.basename(text_file).replace(\".txt\", \"\")\n",
    "    res.save_maps(output_dir=output_dir, prefix=prefix)\n",
    "    cres.save_maps(output_dir=output_dir, prefix=prefix)\n",
    "\n",
    "    # Create cluster-level thresholded z and ALE maps\n",
    "    # 创建集群级阈值化的z和ALE地图\n",
    "    img_clust = cres.get_map(\"z_level-cluster_corr-FWE_method-montecarlo\")\n",
    "    img_z = cres.get_map(\"z\")\n",
    "    img_ale = cres.get_map(\"stat\")\n",
    "\n",
    "    # 计算cluster阈值的z值 \n",
    "    cluster_thresh_z = norm.ppf(1 - cluster_thresh / 2) \n",
    "    # 使用`image.threshold_img`函数对cluster图像进行阈值化\n",
    "    img_clust_thresh = image.threshold_img(img=img_clust, threshold=cluster_thresh_z)\n",
    "\n",
    "    # Create thresholded z and ALE maps\n",
    "    # 创建一个掩码图像`img_mask`，其中值大于0的体素被设置为1，其余为0。\n",
    "    img_mask = image.math_img(\"np.where(img > 0, 1, 0)\", img=img_clust_thresh)\n",
    "    img_z_thresh = image.math_img(\"img1 * img2\", img1=img_mask, img2=img_z)\n",
    "    # 使用`image.math_img`方法将掩码应用于z图像和ALE图像，得到阈值化的z图像和ALE图像。\n",
    "    img_ale_thresh = image.math_img(\"img1 * img2\", img1=img_mask, img2=img_ale)\n",
    "\n",
    "    # Save thresholded maps to the output directory\n",
    "    # 保存阈值化的图像\n",
    "    save(img=img_z_thresh, filename=output_dir + \"/\" + prefix + \"_z_thresh.nii.gz\")\n",
    "    save(img=img_ale_thresh, filename=output_dir + \"/\" + prefix + \"_stat_thresh.nii.gz\")"
   ]
  },
  {
   "cell_type": "code",
   "execution_count": null,
   "metadata": {},
   "outputs": [],
   "source": [
    "\n",
    "# Finally, let's look at some exemplary results by plotting the (cluster-level FWE-corrected) *z* score map from the main analysis (including all semantic experiments). We also print a table of the corresponding cluster statistics.\n",
    "\n",
    "if __name__ == \"__main__\":\n",
    "\n",
    "    # Glass brain example\n",
    "    img = image.load_img(\"data/health_z.nii.gz\")\n",
    "    p = plotting.plot_glass_brain(img, display_mode=\"lyrz\", colorbar=True)\n",
    "\n",
    "    # Cluster table example\n",
    "    t = reporting.get_clusters_table(img, stat_threshold=0, min_distance=1000)\n",
    "    display(t)\n",
    "\n",
    "    print(cres.maps.keys())\n"
   ]
  }
 ],
 "metadata": {
  "kernelspec": {
   "display_name": "base",
   "language": "python",
   "name": "python3"
  },
  "language_info": {
   "codemirror_mode": {
    "name": "ipython",
    "version": 3
   },
   "file_extension": ".py",
   "mimetype": "text/x-python",
   "name": "python",
   "nbconvert_exporter": "python",
   "pygments_lexer": "ipython3",
   "version": "3.12.4"
  }
 },
 "nbformat": 4,
 "nbformat_minor": 2
}
